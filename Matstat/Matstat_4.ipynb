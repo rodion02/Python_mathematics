{
 "cells": [
  {
   "cell_type": "code",
   "execution_count": 1,
   "id": "674b9b17-2922-45e5-847d-e86e1b205e7e",
   "metadata": {
    "tags": []
   },
   "outputs": [
    {
     "name": "stdout",
     "output_type": "stream",
     "text": [
      "Предсказание о виде цветка по его стеблю, примеры:\n",
      "Если стебель 0.43, то это setosa\n",
      "Если стебель 1.37, то это versicolor\n"
     ]
    }
   ],
   "source": [
    "import numpy as np\n",
    "import matplotlib.pyplot as plt\n",
    "import pandas as pd\n",
    "import sklearn.model_selection as model_selection\n",
    "from sklearn.naive_bayes import GaussianNB\n",
    "from sklearn.metrics import accuracy_score\n",
    "\n",
    "dataset = pd.read_csv('Dataframe.csv', sep=' ')\n",
    "dataset = dataset.drop(dataset[dataset.iris_species == 'virginica'].index)\n",
    "X = dataset['petal_width'].values.reshape(-1, 1)\n",
    "y = dataset['iris_species'].values\n",
    "\n",
    "X_train, X_test, y_train, y_test = model_selection.train_test_split(X, y, test_size=0.20, random_state=27)\n",
    "classifier = GaussianNB()\n",
    "classifier.fit(X_train, y_train)\n",
    "\n",
    "y_pred = classifier.predict(X_test)\n",
    "print('Предсказание о виде цветка по его стеблю, примеры:')\n",
    "print('Если стебель 0.43, то это', ''.join(classifier.predict([[0.43]])))\n",
    "print('Если стебель 1.37, то это', ''.join(classifier.predict([[1.37]])))"
   ]
  },
  {
   "cell_type": "code",
   "execution_count": null,
   "id": "661d83a6-0e44-4dec-ad5e-ee26a687cccb",
   "metadata": {
    "tags": []
   },
   "outputs": [],
   "source": [
    "Я построил байесовский классификатор чтобы проверить, распределена ри переменная равномерно"
   ]
  },
  {
   "cell_type": "code",
   "execution_count": 4,
   "id": "3861ff2d-7a5a-4954-ab39-ed05e882d6ab",
   "metadata": {},
   "outputs": [
    {
     "name": "stdout",
     "output_type": "stream",
     "text": [
      "Accuracy :  0.95\n",
      "Вот пример работы программы:\n",
      "   Real Values Predicted Values\n",
      "0   versicolor       versicolor\n",
      "1   versicolor       versicolor\n",
      "2       setosa       versicolor\n",
      "3   versicolor       versicolor\n",
      "4       setosa           setosa\n",
      "5   versicolor       versicolor\n",
      "6       setosa           setosa\n",
      "7   versicolor       versicolor\n",
      "8       setosa           setosa\n",
      "9       setosa           setosa\n",
      "10  versicolor       versicolor\n",
      "11  versicolor       versicolor\n",
      "12  versicolor       versicolor\n",
      "13      setosa           setosa\n",
      "14  versicolor       versicolor\n",
      "15      setosa           setosa\n",
      "16  versicolor       versicolor\n",
      "17  versicolor       versicolor\n",
      "18  versicolor       versicolor\n",
      "19  versicolor       versicolor\n"
     ]
    }
   ],
   "source": [
    "print(\"Accuracy : \", accuracy_score(y_test, y_pred))\n",
    "\n",
    "df = pd.DataFrame({'Real Values':y_test, 'Predicted Values':y_pred})\n",
    "print('Вот пример работы программы:')\n",
    "print(df)"
   ]
  },
  {
   "cell_type": "code",
   "execution_count": null,
   "id": "90942956-bec7-4d64-8b8c-63942fe0c640",
   "metadata": {},
   "outputs": [],
   "source": [
    "Теперь я проверил "
   ]
  }
 ],
 "metadata": {
  "kernelspec": {
   "display_name": "Python 3",
   "language": "python",
   "name": "python3"
  },
  "language_info": {
   "codemirror_mode": {
    "name": "ipython",
    "version": 3
   },
   "file_extension": ".py",
   "mimetype": "text/x-python",
   "name": "python",
   "nbconvert_exporter": "python",
   "pygments_lexer": "ipython3",
   "version": "3.7.8"
  }
 },
 "nbformat": 4,
 "nbformat_minor": 5
}
