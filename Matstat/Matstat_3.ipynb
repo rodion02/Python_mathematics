{
 "cells": [
  {
   "cell_type": "code",
   "execution_count": 6,
   "id": "e3e468ad-5368-4bdd-bb47-55b8f928db39",
   "metadata": {},
   "outputs": [
    {
     "name": "stdout",
     "output_type": "stream",
     "text": [
      "Пункт 3.1\n",
      "           (2.1;2.4]  (2.4;2.7]  (2.7;3]  (3;3.3]  (3.3;3.6]  (3.6;3.9)   i\n",
      "[4.5;4.9]          0          2        4        0          0          0   6\n",
      "(4.9;5.3]          1          5        5        3          0          0  14\n",
      "(5.3;5.7]          0          1        5        6          2          0  14\n",
      "(5.7;6.1]          0          1        5        3          1          0  10\n",
      "(6.1;6.5]          0          0        1        0          0          1   2\n",
      "(6.5;6.9]          0          1        2        0          0          1   4\n",
      "j                  1         10       22       12          3          2  50\n",
      "Гипотеза о независимости ширины чашелистника и длины лепестка подверждается тк -27.01298701298701 < 37.6\n"
     ]
    }
   ],
   "source": [
    "import numpy as np\n",
    "import pandas as pd\n",
    "import matplotlib.pyplot as plt\n",
    "import seaborn as sb\n",
    "from sklearn.linear_model import LinearRegression\n",
    "\n",
    "df = pd.read_csv('Dataframe.csv', sep=' ')\n",
    "df = df.drop(df[df.iris_species != 'virginica'].index)\n",
    "mini1 = min(df['sepal_width'])  # Нашли минимальные и максимальные значения каждого столбца, чтобы правильно определить\n",
    "maxi1 = max(df['sepal_width'])  # периоды\n",
    "mini2 = min(df['petal_length'])\n",
    "maxi2 = max(df['petal_length'])\n",
    "\n",
    "# 3.1\n",
    "print('Пункт 3.1')\n",
    "leni = 6  # Из формулы 1 + 3,32 * lg(50)\n",
    "\n",
    "# Заранее составим подходящие нам интервалы Y - (2.1;2.4] u (2.4;2.7] u (2.7;3] u (3;3.3] u (3.3;3.6] u (3.6;3.9)\n",
    "# X - [4.5;4.9] u (4.9;5.3] u (5.3;5.7] u (5.7;6.1] u (6.1;6.5] u (6.5;6.9]. А теперь составим таблицу\n",
    "\n",
    "x = pd.Series(df['sepal_width'])\n",
    "y = pd.Series(df['petal_length'])\n",
    "\n",
    "l = []\n",
    "for i in range(6):\n",
    "    l.append([0, 0, 0, 0, 0, 0])\n",
    "\n",
    "for n1, n2 in zip([2.1, 2.41, 2.71, 3.01, 3.31, 3.61], [2.4, 2.7, 3, 3.3, 3.6, 3.9]):\n",
    "    s = x.between(n1, n2)\n",
    "    for m1, m2 in zip([4.5, 4.91, 5.31, 5.71, 6.11, 6.51], [4.9, 5.3, 5.7, 6.1, 6.5, 6.9]):\n",
    "        k = y.between(m1, m2)\n",
    "        df2 = pd.concat([s, k], axis=1)\n",
    "        for i in range(100, 150):\n",
    "            if df2['sepal_width'][i] == True and df2['petal_length'][i] == True:\n",
    "                ind1 = int((n1 - 2.1) / 0.3)\n",
    "                ind2 = int((m1 - 4.5) / 0.4)\n",
    "                l[ind1][ind2] += 1\n",
    "df4 = pd.DataFrame(l, index=[\"(2.1;2.4]\", \"(2.4;2.7]\", \"(2.7;3]\", \"(3;3.3]\", \"(3.3;3.6]\", \"(3.6;3.9)\"],\n",
    "                   columns=['[4.5;4.9]', '(4.9;5.3]', '(5.3;5.7]', '(5.7;6.1]', '(6.1;6.5]', '(6.5;6.9]']).T\n",
    "df4['i'] = df4.sum(axis=1)\n",
    "df4.loc['j'] = df4.sum()\n",
    "print(df4)\n",
    "# Теперь приступим к вычислениям\n",
    "n = 0\n",
    "for i, j in zip([\"(2.1;2.4]\", \"(2.4;2.7]\", \"(2.7;3]\", \"(3;3.3]\", \"(3.3;3.6]\", \"(3.6;3.9)\"], range(6)):\n",
    "    n += df4[i][j]**2 / (df4[i][6] * df4[\"i\"][j])\n",
    "n -= 1\n",
    "n *= len(df['sepal_width'])\n",
    "xi = 37.6   # Из таблицы распределения хи квадрата\n",
    "\n",
    "if n > xi:\n",
    "    print('Гипотеза о независимости ширины чашелистника и длины лепестка отвергается тк', n, '>', xi)\n",
    "else:\n",
    "    print('Гипотеза о независимости ширины чашелистника и длины лепестка подверждается тк', n, '<', xi)\n"
   ]
  },
  {
   "cell_type": "code",
   "execution_count": 3,
   "id": "89b38a4e-3893-4b4e-841b-169204c5a806",
   "metadata": {},
   "outputs": [
    {
     "name": "stdout",
     "output_type": "stream",
     "text": [
      "Пункт 3.2\n",
      "Оценка ковариации коэфецента корелляции равна 0.07137959183673467\n",
      "Сам коэфецент корелляции равен 0.4010445773427923\n",
      "Значит гипотеза отвергается на данном уровне значимости 0.99, тк 2.57 < 3.0331231223315385\n"
     ]
    }
   ],
   "source": [
    "# 3.2\n",
    "print('Пункт 3.2')\n",
    "\n",
    "mean_x = sum(df['sepal_width'])/len(df['sepal_width'])  # Находим выборочные среднее выборок X и Y\n",
    "mean_y = sum(df['petal_length'])/len(df['petal_length'])\n",
    "\n",
    "sub_x = [i - mean_x for i in df['sepal_width']]     # По формуле отнимаем от элементов выборок Х и У, их среднее и\n",
    "sub_y = [i - mean_y for i in df['petal_length']]    # складываем в наши списки\n",
    "\n",
    "cov = (sum([sub_x[i] * sub_y[i] for i in range(len(sub_x))])) / (len(df['petal_length']) - 1)\n",
    "print(\"Оценка ковариации коэфецента корелляции равна\", cov)\n",
    "\n",
    "# Для начала найдём выборочный коэфецент корелляции\n",
    "\n",
    "mean_xy = sum((df['sepal_width'] * df['petal_length'])/len(df['sepal_width']))\n",
    "s_xy = mean_xy - mean_y*mean_x\n",
    "mean_x2 = sum(i**2 for i in df['sepal_width'])/len(df['sepal_width'])\n",
    "mean_y2 = sum(i**2 for i in df['petal_length'])/len(df['petal_length'])\n",
    "s_x = (mean_x2 - mean_x**2)**0.5\n",
    "s_y = (mean_y2 - mean_y**2)**0.5\n",
    "r_xy = s_xy/(s_x*s_y)\n",
    "t = (r_xy * (len(df['petal_length']) - 2)**0.5) / (1 - r_xy ** 2) ** 0.5\n",
    "# А теперь сравним наше распределение статистики со значением из таблицы Стьюдента при alpha = 0.01\n",
    "st = 2.57\n",
    "print(\"Сам коэфецент корелляции равен\", r_xy)\n",
    "if st > t:\n",
    "    print(\"Значит гипотеза о незначемости коэфецента коркеелляции подтверждается тк\", st, \">\", t)\n",
    "else:\n",
    "    print(\"Значит гипотеза отвергается на данном уровне значимости 0.99, тк\", st, \"<\", t)"
   ]
  },
  {
   "cell_type": "code",
   "execution_count": 7,
   "id": "bf943cff-435c-445a-a7ba-7a457f3a5103",
   "metadata": {},
   "outputs": [
    {
     "name": "stdout",
     "output_type": "stream",
     "text": [
      "Пункт 3.3\n"
     ]
    },
    {
     "data": {
      "image/png": "[encoded data removed]",
      "text/plain": [
       "<Figure size 640x480 with 1 Axes>"
      ]
     },
     "metadata": {},
     "output_type": "display_data"
    },
    {
     "name": "stdout",
     "output_type": "stream",
     "text": [
      "Уравнение линейной регрессии: Y = 3.5109 + 0.68632X \n",
      "Все нужные параметры можно легко увидеть\n",
      "Как нам известно, коэфецент детерминации равен квадрату коэфецента корелляции, а точнее 0.16083675301605893\n",
      "Гипотза о значимости критерия Фишера будет отвергнута тк 9.199835875222224 > 4.08\n"
     ]
    }
   ],
   "source": [
    "# 3.3\n",
    "print(\"Пункт 3.3\")\n",
    "\n",
    "x = df['sepal_width'].values.reshape(-1, 1)\n",
    "y = df['petal_length'].values.reshape(-1, 1)\n",
    "reg = LinearRegression()\n",
    "reg.fit(x, y)\n",
    "plt.scatter(df['sepal_width'], df['petal_length'])\n",
    "plt.plot(df['sepal_width'], reg.predict(x), color='red', linewidth=2)\n",
    "plt.show()\n",
    "print(\"Уравнение линейной регрессии: Y = {:.5} + {:.5}X\".format(reg.intercept_[0], reg.coef_[0][0]),\n",
    "      \"\\nВсе нужные параметры можно легко увидеть\")\n",
    "\n",
    "de = r_xy**2\n",
    "print(\"Как нам известно, коэфецент детерминации равен квадрату коэфецента корелляции, а точнее\", de)\n",
    "\n",
    "m = 1\n",
    "f = (de/(1-de)) * (len(df['petal_length']) - m - 1)/m\n",
    "fi = 4.08   # При уровне значимости 0.05\n",
    "if f > fi:\n",
    "    print(\"Гипотза о значимости критерия Фишера будет отвергнута тк\", f, \">\", fi)\n",
    "else:\n",
    "    print(\"Гипотза о значимости критерия Фишера будет значимой тк\", f, \"<\", fi)"
   ]
  },
  {
   "cell_type": "code",
   "execution_count": null,
   "id": "6fdf1822-ca6a-4318-9a52-589bb6a9ad1e",
   "metadata": {},
   "outputs": [],
   "source": []
  }
 ],
 "metadata": {
  "kernelspec": {
   "display_name": "Python 3",
   "language": "python",
   "name": "python3"
  },
  "language_info": {
   "codemirror_mode": {
    "name": "ipython",
    "version": 3
   },
   "file_extension": ".py",
   "mimetype": "text/x-python",
   "name": "python",
   "nbconvert_exporter": "python",
   "pygments_lexer": "ipython3",
   "version": "3.7.8"
  }
 },
 "nbformat": 4,
 "nbformat_minor": 5
}
