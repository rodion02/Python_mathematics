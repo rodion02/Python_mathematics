{
  "cells":[
    {
      "cell_type":"markdown",
      "source":[
        "Известно:\n",
        "\n",
        "K = 8\n",
        "\n",
        "\n",
        "V = 5000\n",
        "\n",
        "N = 2400\n",
        "\n",
        "lambda(day) = 8\n",
        "\n",
        "lambda(night) = 0.5\n",
        "\n",
        "B = 7"
      ],
      "attachments":{
        
      },
      "metadata":{
        
      }
    },
    {
      "cell_type":"markdown",
      "source":[
        "Первый пункт:"
      ],
      "attachments":{
        
      },
      "metadata":{
        
      }
    },
    {
      "cell_type":"code",
      "source":[
        "import numpy as np\n",
        "import random\n",
        "\n",
        "\n",
        "\n",
        "# Количество концентраторов\n",
        "k = 8\n",
        "# Интесивность входного потока\n",
        "lambda_day = 8\n",
        "# Интенсивность ночного потока\n",
        "lambda_night = 0.5\n",
        "# Максимальный размер очереди\n",
        "m = 0\n",
        "# Интенсивность выходного потока\n",
        "mu = 2.08\n",
        "# Количество обслуженных заявок в единицу времени\n",
        "p_day = lambda_day\/mu\n",
        "p_night = lambda_night\/mu\n",
        "# Предельная вероятность\n",
        "p0 = 0\n",
        "f = 1\n",
        "for i in range(1, k+1):\n",
        "    f *= i\n",
        "    p0 += (p_day**i)\/f\n",
        "p0 = (p0 + 1 + ((p_day**(k+1)\/k*f) * (1-(p_day\/k)**m)\/(1-p_day\/k)))**(-1)\n",
        "# Вероятность отказа\n",
        "pd = (p_day**(k+m)\/((k**m)*f))*p0\n",
        "\n",
        "p0 = 0\n",
        "f = 1\n",
        "for i in range(1, k+1):\n",
        "    f *= i\n",
        "    p0 += (p_night**i)\/f\n",
        "p0 = (p0 + 1 + (((p_night**(k+1))\/(k*f)) * (1-(p_night\/k)**m)\/(1-p_night\/k)))**(-1)\n",
        "# Вероятность отказа\n",
        "pe = (p_night**(k+m)\/((k**m)*f))*p0\n",
        "\n",
        "print('Вероятность отказа днём:', pd)\n",
        "print('Вероятность отказа ночью:', pe)"
      ],
      "execution_count":5,
      "outputs":[
        {
          "name":"stdout",
          "text":[
            "Вероятность отказа днём: 0.025812595940994068\n",
            "Вероятность отказа ночью: 2.1743783718213567e-10\n"
          ],
          "output_type":"stream"
        }
      ],
      "metadata":{
        
      }
    },
    {
      "cell_type":"markdown",
      "source":[
        "Второй пункт:"
      ],
      "attachments":{
        
      },
      "metadata":{
        
      }
    },
    {
      "cell_type":"code",
      "source":[
        "import numpy as np\n",
        "import random\n",
        "\n",
        "def alg(lambda_day, n_packets):\n",
        "    # Инициализация генеротора случайных чисел\n",
        "    np.random.seed(100)\n",
        "    # Вероятность блокировки\n",
        "    p_refuse = 0\n",
        "    # Количество повторов в методе Монте-Карло\n",
        "    n_rep = 100\n",
        "    # Имитационное моделирование\n",
        "    for i in range(n_rep):\n",
        "    # Количество концентраторов\n",
        "        k = 8\n",
        "    # Текущее время\n",
        "        t = 0\n",
        "    # текущий размер очереди\n",
        "        queue = 0\n",
        "    # Максимальный размер очереди\n",
        "        m = 0\n",
        "    # Интенсивность выходного потока\n",
        "        mu = 2.08\n",
        "    # время, когда прибор освободится\n",
        "        t_free = []\n",
        "        for j in range(k):\n",
        "            t_free.append(0)\n",
        "    # Количество потярянных пактеов\n",
        "        n_lost = 0\n",
        "        for f in range(n_packets):\n",
        "    # время поступления нового пакета\n",
        "            t += np.random.exponential(scale=1\/lambda_day)\n",
        "    # проверяем, свободен ли концентратор\n",
        "            n = 0\n",
        "            if queue > 0:\n",
        "                for j in range(k):\n",
        "                    while t_free[j] < t and queue > 0:\n",
        "                        t_free[j] += np.random.exponential(scale=1\/mu)\n",
        "                        queue -= 1\n",
        "            for h in range(k):\n",
        "                if t_free[h] < t:\n",
        "                    t_free[h] = t + np.random.exponential(scale=1\/mu)\n",
        "                    break\n",
        "                else:\n",
        "                    n += 1\n",
        "            if n == k:\n",
        "                if queue < m:\n",
        "                    queue += 1\n",
        "                else:\n",
        "                    n_lost += 1\n",
        "        p_refuse += n_lost\/n_packets\n",
        "    return p_refuse\n",
        "# Оценка вероятности блокировки\n",
        "# Количество повторов в методе Монте-Карло\n",
        "n_rep = 100\n",
        "p_refuse1 = alg(8, 460800) \/ n_rep\n",
        "p_refuse2 = alg(0.5, 14400) \/ n_rep\n",
        "print('Вероятность отказа днём: '+str(p_refuse1))\n",
        "print('Вероятность отказа ночью: '+str(p_refuse2))"
      ],
      "execution_count":9,
      "outputs":[
        {
          "name":"stdout",
          "text":[
            "Вероятность отказа днём: 0.025785698784722227\n",
            "Вероятность отказа ночью: 0.0\n"
          ],
          "output_type":"stream"
        }
      ],
      "metadata":{
        
      }
    },
    {
      "cell_type":"markdown",
      "source":[
        "Я специально вбил соответствующие числа пакетов и днём и ночью и получил соответствующие результаты. Вероятность потери файла днём по методу Монте Карло равна вероятности потери файла днём в первом пункте. А вот тк вероятность потери ночью стремится к 0, то метод Монте Карло определил её как 0."
      ],
      "attachments":{
        
      },
      "metadata":{
        
      }
    },
    {
      "cell_type":"markdown",
      "source":[
        "Третий пункт:"
      ],
      "attachments":{
        
      },
      "metadata":{
        
      }
    },
    {
      "cell_type":"markdown",
      "source":[
        "Тут я подставлял различные значения очереди и пришёл к тому, что оптимальный размер буфера будет 9 т.к. если размер\n",
        "буфера будет 8, то P(отк) = 0.00011, что больше 0.0001"
      ],
      "attachments":{
        
      },
      "metadata":{
        
      }
    },
    {
      "cell_type":"code",
      "source":[
        "import numpy as np\n",
        "import random\n",
        "\n",
        "\n",
        "# Инициализация генеротора случайных чисел\n",
        "np.random.seed(100)\n",
        "# Количество повторов в методе Монте-Карло\n",
        "n_rep = 1000\n",
        "# Вероятность блокировки\n",
        "p_refuse = 0\n",
        "# Имитационное моделирование\n",
        "for i in range(n_rep):\n",
        "# Количество концентраторов\n",
        "    k = 8\n",
        "# Количество пакетов\n",
        "    n_packets = 1000\n",
        "# Текущее время\n",
        "    t = 0\n",
        "# текущий размер очереди\n",
        "    queue = 0\n",
        "# Интесивность входного потока\n",
        "    lambda_day = 8\n",
        "# Максимальный размер очереди\n",
        "    m = 8\n",
        "# Интенсивность выходного потока\n",
        "    mu = 2.08\n",
        "# время, когда прибор освободится\n",
        "    t_free = []\n",
        "    for j in range(k):\n",
        "        t_free.append(0)\n",
        "# Количество потярянных пактеов\n",
        "    n_lost = 0\n",
        "    for f in range(n_packets):\n",
        "# время поступления нового пакета\n",
        "        t += np.random.exponential(scale=1\/lambda_day)\n",
        "# проверяем, свободен ли концентратор\n",
        "        n = 0\n",
        "        if queue > 0:\n",
        "            for j in range(k):\n",
        "                while t_free[j] < t and queue > 0:\n",
        "                    t_free[j] += np.random.exponential(scale=1\/mu)\n",
        "                    queue -= 1\n",
        "        for h in range(k):\n",
        "            if t_free[h] < t:\n",
        "                t_free[h] = t + np.random.exponential(scale=1\/mu)\n",
        "                break\n",
        "            else:\n",
        "                n += 1\n",
        "        if n == k:\n",
        "            if queue < m:\n",
        "                queue += 1\n",
        "            else:\n",
        "                n_lost += 1\n",
        "    p_refuse += n_lost\/n_packets\n",
        "\n",
        "# Оценка вероятности блокировки\n",
        "p_refuse \/= n_rep\n",
        "print('Вероятность отказа: '+str(p_refuse))"
      ],
      "execution_count":7,
      "outputs":[
        {
          "name":"stdout",
          "text":[
            "Вероятность отказа: 6.300000000000001e-05\n"
          ],
          "output_type":"stream"
        }
      ],
      "metadata":{
        
      }
    }
  ],
  "metadata":{
    
  },
  "nbformat":4,
  "nbformat_minor":0
}
